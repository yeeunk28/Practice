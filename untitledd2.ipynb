{
  "nbformat": 4,
  "nbformat_minor": 0,
  "metadata": {
    "colab": {
      "provenance": [],
      "include_colab_link": true
    },
    "kernelspec": {
      "name": "python3",
      "display_name": "Python 3"
    },
    "language_info": {
      "name": "python"
    }
  },
  "cells": [
    {
      "cell_type": "markdown",
      "metadata": {
        "id": "view-in-github",
        "colab_type": "text"
      },
      "source": [
        "<a href=\"https://colab.research.google.com/github/yeeunk28/Practice/blob/main/untitledd2.ipynb\" target=\"_parent\"><img src=\"https://colab.research.google.com/assets/colab-badge.svg\" alt=\"Open In Colab\"/></a>"
      ]
    },
    {
      "cell_type": "markdown",
      "source": [
        "# Lesson 3 Review and 3.4"
      ],
      "metadata": {
        "id": "yPhh4RDKWu4z"
      }
    },
    {
      "cell_type": "code",
      "execution_count": null,
      "metadata": {
        "colab": {
          "base_uri": "https://localhost:8080/"
        },
        "id": "t6-TanSiWcMO",
        "outputId": "1f82a5bf-2530-409f-9dd6-b8dce607c1b8"
      },
      "outputs": [
        {
          "output_type": "stream",
          "name": "stdout",
          "text": [
            "Hi, what's your name? Yeeun\n",
            "Hello, Yeeun! Nice to meet you. Where are you from?\n",
            "Where are you from? Daegu\n",
            "You're from Daegu.Oh! I'm from Daegu too! Glad to talk to you.\n",
            "What's your favorite color? BLue\n",
            "Oh! I love BLue too! \n"
          ]
        }
      ],
      "source": [
        "your_name = input(\"Hi, what's your name? \")\n",
        "print(f\"Hello, {your_name}! Nice to meet you. Where are you from?\")\n",
        "hometown = input(\"Where are you from? \")\n",
        "print(f\"You're from {hometown}.Oh! I'm from {hometown} too! Glad to talk to you.\")\n",
        "favorite_color = input(\"What's your favorite color? \")\n",
        "print(f\"Oh! I love {favorite_color} too! \")"
      ]
    },
    {
      "cell_type": "code",
      "source": [
        "def calculator():\n",
        "    print(\"Welcome to the Simple Calculator!\")\n",
        "    print(\"You can perform addition, subtraction, multiplication, and division.\\n\")\n",
        "\n",
        "    # Get the first number from the user\n",
        "    x = float(input(\"Enter the first number (x): \"))\n",
        "\n",
        "    # Get the operation from the user\n",
        "    operation = input(\"Choose the operation (+, -, *, /): \")\n",
        "\n",
        "    # Get the second number from the user\n",
        "    y = float(input(\"Enter the second number (y): \"))\n",
        "\n",
        "    # Perform the calculation based on the operation\n",
        "    if operation == '+':\n",
        "        result = x + y\n",
        "        print(f\"The result of {x} + {y} is {result}.\")\n",
        "    elif operation == '-':\n",
        "        result = x - y\n",
        "        print(f\"The result of {x} - {y} is {result}.\")\n",
        "    elif operation == '*':\n",
        "        result = x * y\n",
        "        print(f\"The result of {x} * {y} is {result}.\")\n",
        "    elif operation == '/':\n",
        "        # Check if the second number is not zero to avoid division by zero error\n",
        "        if y != 0:\n",
        "            result = x / y\n",
        "            print(f\"The result of {x} / {y} is {result}.\")\n",
        "        else:\n",
        "            print(\"Division by zero is not allowed.\")\n",
        "    else:\n",
        "        print(\"Invalid operation. Please select one of +, -, *, or /.\")\n",
        "\n",
        "# Run the calculator\n",
        "calculator()\n"
      ],
      "metadata": {
        "colab": {
          "base_uri": "https://localhost:8080/",
          "height": 405
        },
        "id": "OmrxjlGXa3-6",
        "outputId": "f95769bd-5df3-41eb-a959-dfdd4a7f72cd"
      },
      "execution_count": null,
      "outputs": [
        {
          "metadata": {
            "tags": null
          },
          "name": "stdout",
          "output_type": "stream",
          "text": [
            "Welcome to the Simple Calculator!\n",
            "You can perform addition, subtraction, multiplication, and division.\n",
            "\n"
          ]
        },
        {
          "output_type": "error",
          "ename": "KeyboardInterrupt",
          "evalue": "Interrupted by user",
          "traceback": [
            "\u001b[0;31m---------------------------------------------------------------------------\u001b[0m",
            "\u001b[0;31mKeyboardInterrupt\u001b[0m                         Traceback (most recent call last)",
            "\u001b[0;32m<ipython-input-3-7dc5e080e641>\u001b[0m in \u001b[0;36m<cell line: 0>\u001b[0;34m()\u001b[0m\n\u001b[1;32m     33\u001b[0m \u001b[0;34m\u001b[0m\u001b[0m\n\u001b[1;32m     34\u001b[0m \u001b[0;31m# Run the calculator\u001b[0m\u001b[0;34m\u001b[0m\u001b[0;34m\u001b[0m\u001b[0m\n\u001b[0;32m---> 35\u001b[0;31m \u001b[0mcalculator\u001b[0m\u001b[0;34m(\u001b[0m\u001b[0;34m)\u001b[0m\u001b[0;34m\u001b[0m\u001b[0;34m\u001b[0m\u001b[0m\n\u001b[0m",
            "\u001b[0;32m<ipython-input-3-7dc5e080e641>\u001b[0m in \u001b[0;36mcalculator\u001b[0;34m()\u001b[0m\n\u001b[1;32m      4\u001b[0m \u001b[0;34m\u001b[0m\u001b[0m\n\u001b[1;32m      5\u001b[0m     \u001b[0;31m# Get the first number from the user\u001b[0m\u001b[0;34m\u001b[0m\u001b[0;34m\u001b[0m\u001b[0m\n\u001b[0;32m----> 6\u001b[0;31m     \u001b[0mx\u001b[0m \u001b[0;34m=\u001b[0m \u001b[0mfloat\u001b[0m\u001b[0;34m(\u001b[0m\u001b[0minput\u001b[0m\u001b[0;34m(\u001b[0m\u001b[0;34m\"Enter the first number (x): \"\u001b[0m\u001b[0;34m)\u001b[0m\u001b[0;34m)\u001b[0m\u001b[0;34m\u001b[0m\u001b[0;34m\u001b[0m\u001b[0m\n\u001b[0m\u001b[1;32m      7\u001b[0m \u001b[0;34m\u001b[0m\u001b[0m\n\u001b[1;32m      8\u001b[0m     \u001b[0;31m# Get the operation from the user\u001b[0m\u001b[0;34m\u001b[0m\u001b[0;34m\u001b[0m\u001b[0m\n",
            "\u001b[0;32m/usr/local/lib/python3.11/dist-packages/ipykernel/kernelbase.py\u001b[0m in \u001b[0;36mraw_input\u001b[0;34m(self, prompt)\u001b[0m\n\u001b[1;32m   1175\u001b[0m                 \u001b[0;34m\"raw_input was called, but this frontend does not support input requests.\"\u001b[0m\u001b[0;34m\u001b[0m\u001b[0;34m\u001b[0m\u001b[0m\n\u001b[1;32m   1176\u001b[0m             )\n\u001b[0;32m-> 1177\u001b[0;31m         return self._input_request(\n\u001b[0m\u001b[1;32m   1178\u001b[0m             \u001b[0mstr\u001b[0m\u001b[0;34m(\u001b[0m\u001b[0mprompt\u001b[0m\u001b[0;34m)\u001b[0m\u001b[0;34m,\u001b[0m\u001b[0;34m\u001b[0m\u001b[0;34m\u001b[0m\u001b[0m\n\u001b[1;32m   1179\u001b[0m             \u001b[0mself\u001b[0m\u001b[0;34m.\u001b[0m\u001b[0m_parent_ident\u001b[0m\u001b[0;34m[\u001b[0m\u001b[0;34m\"shell\"\u001b[0m\u001b[0;34m]\u001b[0m\u001b[0;34m,\u001b[0m\u001b[0;34m\u001b[0m\u001b[0;34m\u001b[0m\u001b[0m\n",
            "\u001b[0;32m/usr/local/lib/python3.11/dist-packages/ipykernel/kernelbase.py\u001b[0m in \u001b[0;36m_input_request\u001b[0;34m(self, prompt, ident, parent, password)\u001b[0m\n\u001b[1;32m   1217\u001b[0m             \u001b[0;32mexcept\u001b[0m \u001b[0mKeyboardInterrupt\u001b[0m\u001b[0;34m:\u001b[0m\u001b[0;34m\u001b[0m\u001b[0;34m\u001b[0m\u001b[0m\n\u001b[1;32m   1218\u001b[0m                 \u001b[0;31m# re-raise KeyboardInterrupt, to truncate traceback\u001b[0m\u001b[0;34m\u001b[0m\u001b[0;34m\u001b[0m\u001b[0m\n\u001b[0;32m-> 1219\u001b[0;31m                 \u001b[0;32mraise\u001b[0m \u001b[0mKeyboardInterrupt\u001b[0m\u001b[0;34m(\u001b[0m\u001b[0;34m\"Interrupted by user\"\u001b[0m\u001b[0;34m)\u001b[0m \u001b[0;32mfrom\u001b[0m \u001b[0;32mNone\u001b[0m\u001b[0;34m\u001b[0m\u001b[0;34m\u001b[0m\u001b[0m\n\u001b[0m\u001b[1;32m   1220\u001b[0m             \u001b[0;32mexcept\u001b[0m \u001b[0mException\u001b[0m\u001b[0;34m:\u001b[0m\u001b[0;34m\u001b[0m\u001b[0;34m\u001b[0m\u001b[0m\n\u001b[1;32m   1221\u001b[0m                 \u001b[0mself\u001b[0m\u001b[0;34m.\u001b[0m\u001b[0mlog\u001b[0m\u001b[0;34m.\u001b[0m\u001b[0mwarning\u001b[0m\u001b[0;34m(\u001b[0m\u001b[0;34m\"Invalid Message:\"\u001b[0m\u001b[0;34m,\u001b[0m \u001b[0mexc_info\u001b[0m\u001b[0;34m=\u001b[0m\u001b[0;32mTrue\u001b[0m\u001b[0;34m)\u001b[0m\u001b[0;34m\u001b[0m\u001b[0;34m\u001b[0m\u001b[0m\n",
            "\u001b[0;31mKeyboardInterrupt\u001b[0m: Interrupted by user"
          ]
        }
      ]
    },
    {
      "cell_type": "code",
      "source": [
        "!pip install gradio"
      ],
      "metadata": {
        "id": "qUAyR1lJbJ8z"
      },
      "execution_count": null,
      "outputs": []
    },
    {
      "cell_type": "code",
      "source": [
        "#@markdown 🌀 Calculator app with Gradio\n",
        "import gradio as gr\n",
        "\n",
        "def calculate(x, operation, y):\n",
        "    if operation == '+':\n",
        "        result = x + y\n",
        "    elif operation == '-':\n",
        "        result = x - y\n",
        "    elif operation == '*':\n",
        "        result = x * y\n",
        "    elif operation == '/':\n",
        "        if y != 0:\n",
        "            result = x / y\n",
        "        else:\n",
        "            return \"Division by zero is not allowed.\"\n",
        "    else:\n",
        "        return \"Invalid operation.\"\n",
        "\n",
        "    return f\"The result of {x} {operation} {y} is {result}.\"\n",
        "\n",
        "def main():\n",
        "    interface = gr.Interface(\n",
        "        fn=calculate,\n",
        "        inputs=[\n",
        "            gr.Number(label=\"First Number (x)\"),\n",
        "            gr.Dropdown(choices=['+', '-', '*', '/'], label=\"Operation\"),\n",
        "            gr.Number(label=\"Second Number (y)\")\n",
        "        ],\n",
        "        outputs=\"text\",\n",
        "        title=\"Simple Calculator\",\n",
        "        description=\"Select two numbers and an operation to see the result.\"\n",
        "    )\n",
        "    interface.launch()\n",
        "\n",
        "if __name__ == \"__main__\":\n",
        "    main()\n"
      ],
      "metadata": {
        "colab": {
          "base_uri": "https://localhost:8080/",
          "height": 649
        },
        "id": "4FFM340qcI0e",
        "outputId": "56922370-ee64-4b5d-bf05-e6fe7e0edb6f",
        "cellView": "form"
      },
      "execution_count": null,
      "outputs": [
        {
          "output_type": "stream",
          "name": "stdout",
          "text": [
            "Running Gradio in a Colab notebook requires sharing enabled. Automatically setting `share=True` (you can turn this off by setting `share=False` in `launch()` explicitly).\n",
            "\n",
            "Colab notebook detected. To show errors in colab notebook, set debug=True in launch()\n",
            "* Running on public URL: https://7acb6ed81ae1e28f92.gradio.live\n",
            "\n",
            "This share link expires in 72 hours. For free permanent hosting and GPU upgrades, run `gradio deploy` from the terminal in the working directory to deploy to Hugging Face Spaces (https://huggingface.co/spaces)\n"
          ]
        },
        {
          "output_type": "display_data",
          "data": {
            "text/plain": [
              "<IPython.core.display.HTML object>"
            ],
            "text/html": [
              "<div><iframe src=\"https://7acb6ed81ae1e28f92.gradio.live\" width=\"100%\" height=\"500\" allow=\"autoplay; camera; microphone; clipboard-read; clipboard-write;\" frameborder=\"0\" allowfullscreen></iframe></div>"
            ]
          },
          "metadata": {}
        }
      ]
    },
    {
      "cell_type": "code",
      "source": [
        "#@markdown 🌀 Number guessing game\n",
        "\n",
        "import random\n",
        "\n",
        "def number_guessing_game():\n",
        "    print(\"Welcome to the Number Guessing Game!\")\n",
        "    print(\"I'm thinking of a number between 1 and 1000.\")\n",
        "\n",
        "    # Generate a random number between 1 and 1000\n",
        "    target_number = random.randint(1, 1000)\n",
        "\n",
        "    # Initialize the guess variable with a value that cannot be the target\n",
        "    guess = 0\n",
        "    trials = 0  # Initialize the trials counter\n",
        "\n",
        "    # Continue to ask for guesses until the user guesses the target number\n",
        "    while guess != target_number:\n",
        "        # Get the user's guess\n",
        "        guess = int(input(\"Enter your guess: \"))\n",
        "        trials += 1  # Increment the trial counter each time the user makes a guess\n",
        "\n",
        "        # Provide feedback based on the guess\n",
        "        if guess < target_number:\n",
        "            print(\"It's greater than that.\")\n",
        "        elif guess > target_number:\n",
        "            print(\"It's less than that.\")\n",
        "\n",
        "    # When the guess is correct, print the congratulatory message with the number of trials\n",
        "    print(f\"Congratulations! You guessed the number correctly after {trials} {'trial' if trials == 1 else 'trials'}.\")\n",
        "\n",
        "number_guessing_game()"
      ],
      "metadata": {
        "cellView": "form",
        "colab": {
          "base_uri": "https://localhost:8080/"
        },
        "id": "CzdF0xxq0wgs",
        "outputId": "1f21e801-0973-4bf9-cf09-9d56c61b6a9e"
      },
      "execution_count": null,
      "outputs": [
        {
          "output_type": "stream",
          "name": "stdout",
          "text": [
            "Welcome to the Number Guessing Game!\n",
            "I'm thinking of a number between 1 and 1000.\n"
          ]
        }
      ]
    },
    {
      "cell_type": "code",
      "source": [
        "\n",
        "# Logical Operators in Python\n",
        "\n",
        "# Variables for the examples\n",
        "x = True\n",
        "y = False\n",
        "\n",
        "# The 'and' operator returns True only if both operands are true\n",
        "result_and = x and y\n",
        "print(\"x and y is\", result_and)  # Output will be False because y is False\n",
        "\n",
        "# The 'or' operator returns True if at least one of the operands is true\n",
        "result_or = x or y\n",
        "print(\"x or y is\", result_or)  # Output will be True because x is True\n",
        "\n",
        "# The 'not' operator returns True if the operand is false\n",
        "result_not = not x\n",
        "print(\"not x is\", result_not)  # Output will be False because x is True\n"
      ],
      "metadata": {
        "colab": {
          "base_uri": "https://localhost:8080/"
        },
        "id": "iHjKa_MU4sq0",
        "outputId": "be4f9125-a2a0-4f81-98a2-17ebb1bb88be"
      },
      "execution_count": null,
      "outputs": [
        {
          "output_type": "stream",
          "name": "stdout",
          "text": [
            "x and y is False\n",
            "x or y is True\n",
            "not x is False\n"
          ]
        }
      ]
    },
    {
      "cell_type": "code",
      "source": [
        "#@markdown 🌀 Word guessing app\n",
        "\n",
        "import gradio as gr\n",
        "import random\n",
        "\n",
        "# Dictionary of words and their hints\n",
        "words_data = {\n",
        "    \"python\": [\"a high-level programming language\", \"First letter: P\", \"Number of letters: 6\"],\n",
        "    \"galaxy\": [\"a system of stars and planets\", \"First letter: G\", \"Number of letters: 6\"],\n",
        "    \"ocean\": [\"a large body of salt water\", \"First letter: O\", \"Number of letters: 5\"],\n",
        "    \"quasar\": [\"a very energetic and distant active galactic nucleus\", \"First letter: Q\", \"Number of letters: 6\"],\n",
        "    \"volcano\": [\"a mountain or hill with a crater which lava, rock fragments, hot vapor and gas eruptions come from the earth's crust\", \"First letter: V\", \"Number of letters: 7\"]\n",
        "}\n",
        "\n",
        "current_word = \"\"\n",
        "hints = []\n",
        "hint_index = 0\n",
        "\n",
        "def start_game():\n",
        "    global current_word, hints, hint_index\n",
        "    current_word, hints = random.choice(list(words_data.items()))\n",
        "    hint_index = 0\n",
        "    return \"\\n\".join(hints[:1])  # Show only the first hint initially\n",
        "\n",
        "def more_hint():\n",
        "    global hint_index\n",
        "    if hint_index < len(hints) - 1:\n",
        "        hint_index += 1\n",
        "    return \"\\n\".join(hints[:hint_index + 1])\n",
        "\n",
        "def show_feedback(guess):\n",
        "    global current_word, hints, hint_index\n",
        "    if guess.lower() == current_word.lower():\n",
        "        current_word, hints = random.choice(list(words_data.items()))  # Reset for new word\n",
        "        hint_index = 0\n",
        "        return f\"Correct! The word was '{current_word}'. New word selected, press 'Start Game' to play again.\", \"\"\n",
        "    else:\n",
        "        if hint_index < len(hints) - 1:\n",
        "            return \"Incorrect! Try again.\", \"\\n\".join(hints[:hint_index + 1])\n",
        "        else:\n",
        "            return f\"Incorrect! The correct word was '{current_word}'. New word selected, press 'Start Game' to play again.\", \"\"\n",
        "\n",
        "def setup_interface():\n",
        "    with gr.Blocks() as iface:\n",
        "        gr.Markdown(\"### Word Guessing Game\")\n",
        "        gr.Markdown(\"Try to guess the word based on the hints provided!\")\n",
        "        with gr.Row():\n",
        "            start_button = gr.Button(\"Start Game\")\n",
        "            more_hint_button = gr.Button(\"More Hint\")\n",
        "        hint_display = gr.Textbox(label=\"Hint\", lines=3, interactive=False)\n",
        "        guess_input = gr.Textbox(label=\"Enter your guess here\")\n",
        "        submit_button = gr.Button(\"Show Feedback\")\n",
        "        result_display = gr.Textbox(label=\"Result\", lines=2, interactive=False)\n",
        "        start_button.click(fn=start_game, outputs=hint_display)\n",
        "        more_hint_button.click(fn=more_hint, outputs=hint_display)\n",
        "        submit_button.click(fn=show_feedback, inputs=guess_input, outputs=[result_display, hint_display])\n",
        "\n",
        "    iface.launch()\n",
        "\n",
        "if __name__ == \"__main__\":\n",
        "    setup_interface()\n"
      ],
      "metadata": {
        "id": "YrJkb48E4xcX"
      },
      "execution_count": null,
      "outputs": []
    },
    {
      "cell_type": "code",
      "source": [
        "#@markdown 🌀 Word guessing app\n",
        "\n",
        "import gradio as gr\n",
        "import random\n",
        "\n",
        "# Dictionary of words and their hints\n",
        "words_data = {\n",
        "    \"python\": [\"a high-level programming language\", \"First letter: P\", \"Number of letters: 6\"],\n",
        "    \"galaxy\": [\"a system of stars and planets\", \"First letter: G\", \"Number of letters: 6\"],\n",
        "    \"ocean\": [\"a large body of salt water\", \"First letter: O\", \"Number of letters: 5\"],\n",
        "    \"quasar\": [\"a very energetic and distant active galactic nucleus\", \"First letter: Q\", \"Number of letters: 6\"],\n",
        "    \"volcano\": [\"a mountain or hill with a crater which lava, rock fragments, hot vapor and gas eruptions come from the earth's crust\", \"First letter: V\", \"Number of letters: 7\"]\n",
        "}\n",
        "\n",
        "current_word = \"\"\n",
        "hints = []\n",
        "hint_index = 0\n",
        "\n",
        "def start_game():\n",
        "    global current_word, hints, hint_index\n",
        "    current_word, hints = random.choice(list(words_data.items()))\n",
        "    hint_index = 0\n",
        "    return \"\\n\".join(hints[:1])  # Show only the first hint initially\n",
        "\n",
        "def more_hint():\n",
        "    global hint_index\n",
        "    if hint_index < len(hints) - 1:\n",
        "        hint_index += 1\n",
        "    return \"\\n\".join(hints[:hint_index + 1])\n",
        "\n",
        "def show_feedback(guess):\n",
        "    global current_word, hints, hint_index\n",
        "    if guess.lower() == current_word.lower():\n",
        "        current_word, hints = random.choice(list(words_data.items()))  # Reset for new word\n",
        "        hint_index = 0\n",
        "        return f\"Correct! The word was '{current_word}'. New word selected, press 'Start Game' to play again.\", \"\"\n",
        "    else:\n",
        "        if hint_index < len(hints) - 1:\n",
        "            return \"Incorrect! Try again.\", \"\\n\".join(hints[:hint_index + 1])\n",
        "        else:\n",
        "            return f\"Incorrect! The correct word was '{current_word}'. New word selected, press 'Start Game' to play again.\", \"\"\n",
        "\n",
        "def setup_interface():\n",
        "    with gr.Blocks() as iface:\n",
        "        gr.Markdown(\"### Word Guessing Game\")\n",
        "        gr.Markdown(\"Try to guess the word based on the hints provided!\")\n",
        "        with gr.Row():\n",
        "            start_button = gr.Button(\"Start Game\")\n",
        "            more_hint_button = gr.Button(\"More Hint\")\n",
        "        hint_display = gr.Textbox(label=\"Hint\", lines=3, interactive=False)\n",
        "        guess_input = gr.Textbox(label=\"Enter your guess here\")\n",
        "        submit_button = gr.Button(\"Show Feedback\")\n",
        "        result_display = gr.Textbox(label=\"Result\", lines=2, interactive=False)\n",
        "        start_button.click(fn=start_game, outputs=hint_display)\n",
        "        more_hint_button.click(fn=more_hint, outputs=hint_display)\n",
        "        submit_button.click(fn=show_feedback, inputs=guess_input, outputs=[result_display, hint_display])\n",
        "\n",
        "    iface.launch()\n",
        "\n",
        "if __name__ == \"__main__\":\n",
        "    setup_interface()\n"
      ],
      "metadata": {
        "id": "L2ZUvP4Y5feP"
      },
      "execution_count": null,
      "outputs": []
    },
    {
      "cell_type": "markdown",
      "source": [
        "The above app doesn't match target words and correct answers."
      ],
      "metadata": {
        "id": "oFOhhjuX9YoN"
      }
    }
  ]
}